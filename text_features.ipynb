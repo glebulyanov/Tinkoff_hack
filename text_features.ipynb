{
 "cells": [
  {
   "cell_type": "code",
   "execution_count": null,
   "metadata": {
    "colab": {
     "base_uri": "https://localhost:8080/",
     "height": 34
    },
    "colab_type": "code",
    "executionInfo": {
     "elapsed": 2064,
     "status": "ok",
     "timestamp": 1570629228763,
     "user": {
      "displayName": "Никита Фокин",
      "photoUrl": "",
      "userId": "18069839987467549737"
     },
     "user_tz": -180
    },
    "id": "eIZ1-06BvfTw",
    "outputId": "6b087bdf-1d34-49e6-e908-9aaeb3421f93"
   },
   "outputs": [],
   "source": [
    "import pandas as pd\n",
    "import numpy as np\n",
    "from keras.models import Sequential\n",
    "from keras.layers import Dense, Activation, Dropout, BatchNormalization\n",
    "import keras\n",
    "import pymorphy2\n",
    "import deeppavlov\n",
    "from keras import backend as K"
   ]
  },
  {
   "cell_type": "code",
   "execution_count": null,
   "metadata": {
    "colab": {},
    "colab_type": "code",
    "id": "dRKaR_VrvfT1"
   },
   "outputs": [],
   "source": [
    "def normalize(word, morph=0): \n",
    "    if morph == 0:\n",
    "        morph = pymorphy2.MorphAnalyzer()\n",
    "    return morph.parse(word)[0].normal_form \n",
    "\n",
    "def json_to_russian_text(data):\n",
    "    data['russian_text'] = 0\n",
    "    morph = pymorphy2.MorphAnalyzer()\n",
    "    for i in data.index:\n",
    "        story = data['story_json'][i]\n",
    "        story = story.lower()\n",
    "        for symbol in 'qazxswedcvfrtgbnhyujmkiolp\"{}[],.:;1234567890-/?=_#«»\\\\%&()–₽—$²':\n",
    "            story = story.replace(symbol, ' ')\n",
    "        story = story.split()\n",
    "        story = ' '.join(story)\n",
    "        data.loc[i, 'russian_text'] = story\n",
    "    return data"
   ]
  },
  {
   "cell_type": "code",
   "execution_count": null,
   "metadata": {
    "colab": {},
    "colab_type": "code",
    "id": "QUfIV3CivfT5"
   },
   "outputs": [],
   "source": [
    "stories = json_to_russian_text(pd.read_csv(\"stories_description.csv\"))"
   ]
  },
  {
   "cell_type": "code",
   "execution_count": null,
   "metadata": {
    "colab": {
     "base_uri": "https://localhost:8080/",
     "height": 170
    },
    "colab_type": "code",
    "executionInfo": {
     "elapsed": 1774,
     "status": "ok",
     "timestamp": 1570629352970,
     "user": {
      "displayName": "Никита Фокин",
      "photoUrl": "",
      "userId": "18069839987467549737"
     },
     "user_tz": -180
    },
    "id": "uL4foUWOvfT9",
    "outputId": "c1e7abc4-4e1f-464d-d5fe-ae4d26ab7687"
   },
   "outputs": [],
   "source": [
    "from deeppavlov.models.embedders.elmo_embedder import ELMoEmbedder"
   ]
  },
  {
   "cell_type": "code",
   "execution_count": null,
   "metadata": {
    "colab": {
     "base_uri": "https://localhost:8080/",
     "height": 139
    },
    "colab_type": "code",
    "executionInfo": {
     "elapsed": 92790,
     "status": "ok",
     "timestamp": 1570629445956,
     "user": {
      "displayName": "Никита Фокин",
      "photoUrl": "",
      "userId": "18069839987467549737"
     },
     "user_tz": -180
    },
    "id": "C2e91MoxvfUB",
    "outputId": "fa62ff6f-4f4c-42e2-aedc-1115105c7c15"
   },
   "outputs": [],
   "source": [
    "elmo = ELMoEmbedder(\"http://files.deeppavlov.ai/deeppavlov_data/elmo_ru-news_wmt11-16_1.5M_steps.tar.gz\")"
   ]
  },
  {
   "cell_type": "code",
   "execution_count": null,
   "metadata": {
    "colab": {},
    "colab_type": "code",
    "id": "0i2mAfHovfUE"
   },
   "outputs": [],
   "source": [
    "text = stories.russian_text.apply(str.split).values.tolist()"
   ]
  },
  {
   "cell_type": "code",
   "execution_count": null,
   "metadata": {
    "colab": {},
    "colab_type": "code",
    "id": "uRHS05upvfUI"
   },
   "outputs": [],
   "source": [
    "text_embeddings = np.array(elmo(text))"
   ]
  },
  {
   "cell_type": "code",
   "execution_count": null,
   "metadata": {
    "colab": {},
    "colab_type": "code",
    "id": "xMVIXcuU0vJL"
   },
   "outputs": [],
   "source": [
    "data_text = pd.DataFrame(text_embeddings, columns=text_cols)"
   ]
  },
  {
   "cell_type": "code",
   "execution_count": null,
   "metadata": {
    "colab": {},
    "colab_type": "code",
    "id": "6fe0Wdm9vfUu"
   },
   "outputs": [],
   "source": [
    "data_text['story_id'] = stories['story_id']"
   ]
  },
  {
   "cell_type": "code",
   "execution_count": null,
   "metadata": {
    "colab": {},
    "colab_type": "code",
    "id": "pziKKYoUvfUz"
   },
   "outputs": [],
   "source": [
    "data_text.to_csv(\"text_feat_1024.csv\", index=False)"
   ]
  },
  {
   "cell_type": "code",
   "execution_count": null,
   "metadata": {
    "colab": {},
    "colab_type": "code",
    "id": "HKFsj8Zo1M0p"
   },
   "outputs": [],
   "source": []
  }
 ],
 "metadata": {
  "accelerator": "GPU",
  "colab": {
   "collapsed_sections": [],
   "name": "text_features.ipynb",
   "provenance": []
  },
  "kernelspec": {
   "display_name": "Python 3",
   "language": "python",
   "name": "python3"
  },
  "language_info": {
   "codemirror_mode": {
    "name": "ipython",
    "version": 3
   },
   "file_extension": ".py",
   "mimetype": "text/x-python",
   "name": "python",
   "nbconvert_exporter": "python",
   "pygments_lexer": "ipython3",
   "version": "3.7.2"
  }
 },
 "nbformat": 4,
 "nbformat_minor": 1
}
