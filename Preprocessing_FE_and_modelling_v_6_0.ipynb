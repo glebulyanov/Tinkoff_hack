{
 "cells": [
  {
   "cell_type": "code",
   "execution_count": 1,
   "metadata": {},
   "outputs": [],
   "source": [
    "import numpy as np\n",
    "import pandas as pd\n",
    "import matplotlib.pyplot as plt\n",
    "import seaborn as sns\n",
    "from scipy.stats import mode, pearsonr\n",
    "\n",
    "import json\n",
    "import pymorphy2\n",
    "from nltk.corpus import stopwords\n",
    "from sklearn.feature_extraction.text import CountVectorizer\n",
    "from sklearn.decomposition import TruncatedSVD\n",
    "from sklearn.preprocessing import LabelEncoder\n",
    "from sklearn.pipeline import Pipeline\n",
    "from sklearn.metrics import matthews_corrcoef as bin_corr\n",
    "from sklearn.metrics import log_loss\n",
    "\n",
    "from sklearn.model_selection import TimeSeriesSplit\n",
    "from statsmodels.stats.weightstats import _tconfint_generic as confint \n",
    "\n",
    "import catboost as cb\n",
    "import lightgbm as lgb"
   ]
  },
  {
   "cell_type": "markdown",
   "metadata": {},
   "source": [
    "# Necessary functions and classes"
   ]
  },
  {
   "cell_type": "code",
   "execution_count": 2,
   "metadata": {},
   "outputs": [],
   "source": [
    "def custom_metric(y_true, y_pred):\n",
    "    map_dict = {0 : -10, 1 : -0.1, 2 : 0.1, 3 : 0.5}\n",
    "    weights = pd.Series(y_true).map(map_dict).values\n",
    "    map_dict = {0 : -1, 1 : -1, 2 : 1, 3 : 1}\n",
    "    y_pred_perfect = pd.Series(y_true).map(map_dict).values\n",
    "    return sum(weights * y_pred)/sum(weights * y_true)"
   ]
  },
  {
   "cell_type": "code",
   "execution_count": 3,
   "metadata": {},
   "outputs": [],
   "source": [
    "def normalize(text): \n",
    "    morph = pymorphy2.MorphAnalyzer()\n",
    "    norm_text = []\n",
    "    for word in text.split(\" \"):\n",
    "        norm_word = morph.parse(word)[0].normal_form\n",
    "        norm_text.append(norm_word)\n",
    "        \n",
    "    return \" \".join(norm_text).strip()"
   ]
  },
  {
   "cell_type": "code",
   "execution_count": 4,
   "metadata": {},
   "outputs": [],
   "source": [
    "def json_to_russian_text(data):\n",
    "    data['russian_text'] = 0\n",
    "    for i in data.index:\n",
    "        story = data['story_json'][i]\n",
    "        story = story.lower()\n",
    "        for symbol in 'qazxswedcvfrtgbnhyujmkiolp\"{}[],.:;1234567890-/?=_#«»\\\\%&()–₽—$²':\n",
    "            story = story.replace(symbol, ' ')\n",
    "        story = story.split()\n",
    "        story = ' '.join(story)\n",
    "        data.loc[i, 'russian_text'] = story\n",
    "    return data"
   ]
  },
  {
   "cell_type": "code",
   "execution_count": 5,
   "metadata": {},
   "outputs": [],
   "source": [
    "def get_name(story):\n",
    "    parsed_story = json.loads(story.replace('\\\\\\\\\"' , \"'\"))\n",
    "    return parsed_story[\"properties\"].get(\"name\", \"\")"
   ]
  },
  {
   "cell_type": "code",
   "execution_count": 6,
   "metadata": {},
   "outputs": [],
   "source": [
    "def story_num_pages(story):\n",
    "    parsed_story = json.loads(story.replace('\\\\\\\\\"' , \"'\"))\n",
    "    return len(parsed_story[\"content\"])"
   ]
  },
  {
   "cell_type": "code",
   "execution_count": 7,
   "metadata": {},
   "outputs": [],
   "source": [
    "def mean_encode(df_train, df_test, column, n_splits=8):\n",
    "    cv = TimeSeriesSplit(n_splits=n_splits)\n",
    "    map_dict = {0 : \"dislike\", 1 : \"skip\", 2 : \"view\", 3 : \"like\"}\n",
    "    \n",
    "    for label in range(4):\n",
    "        suffix = \"_\" + map_dict[label] + \"_me\"\n",
    "        df_train[column + suffix] = np.nan\n",
    "        df_train[\"mapped_event\"] = np.where(df_train.event == label, 1, 0)\n",
    "        \n",
    "        ## apply encoding on train \n",
    "        for train_index, valid_index in cv.split(df_train):\n",
    "            enc = df_train.loc[train_index, :].groupby(column).mapped_event.mean()\n",
    "            df_train.loc[valid_index, column + suffix] = df_train.loc[valid_index, column].map(enc)\n",
    "        \n",
    "        ## apply encoding on test\n",
    "        enc = df_train.groupby(column).mapped_event.mean()\n",
    "        df_test[column + suffix] = df_test[column].map(enc)\n",
    "    \n",
    "        ## fill nans\n",
    "        df_train[column + suffix].fillna(df_train.mapped_event.mean(), inplace=True)\n",
    "        df_test[column + suffix].fillna(df_train.mapped_event.mean(), inplace=True)\n",
    "    \n",
    "        ## delete mapped event\n",
    "        df_train.drop(\"mapped_event\", axis=1, inplace=True)\n",
    "    \n",
    "    df_train[column + \"_weighted_me\"] = 0\n",
    "    df_test[column + \"_weighted_me\"] = 0\n",
    "    for weight, label in zip([-10, -0.1, 0.1, 0.5], list(range(4))):\n",
    "        suffix = \"_\" + map_dict[label] + \"_me\"\n",
    "        df_train[column + \"_weighted_me\"] += weight * df_train[column + suffix]\n",
    "        df_test[column + \"_weighted_me\"] += weight * df_test[column + suffix]\n",
    "    \n",
    "    return df_train, df_test"
   ]
  },
  {
   "cell_type": "code",
   "execution_count": 8,
   "metadata": {},
   "outputs": [],
   "source": [
    "def validate_model(model, X, y, cat_columns=[], n_splits=10, n_estimators=1, mean_num_leaves=30, \n",
    "                   print_process=True, verbose=False, weights=[-10, -0.1, 0.1, 0.5], random_mul=10):\n",
    "    cv = TimeSeriesSplit(n_splits=n_splits)\n",
    "    custom_scores, logloss_scores = [], []\n",
    "    weights = np.array(weights).reshape(4, 1)\n",
    "    stages_cnt = 0\n",
    "    for train_index, valid_index in cv.split(X):\n",
    "        if print_process:\n",
    "            print(\"Stage number\", stages_cnt)\n",
    "        X_train, y_train = X.loc[train_index, :], y[train_index]\n",
    "        X_valid, y_valid = X.loc[valid_index, :], y[valid_index]\n",
    "        y_pred = np.zeros((len(X_valid), 4))\n",
    "        for i in range(n_estimators):\n",
    "            np.random.seed(i * random_mul)\n",
    "            model.set_params(random_state = i * random_mul, \n",
    "                             num_leaves = mean_num_leaves + np.random.randint(-1, 2))\n",
    "            model.fit(X_train, y_train,\n",
    "                      eval_set=[(X_train, y_train), (X_valid, y_valid)],\n",
    "                      verbose=verbose,\n",
    "                      early_stopping_rounds=20)\n",
    "            y_pred_ = model.predict_proba(X_valid)\n",
    "            y_pred += y_pred_\n",
    "        y_pred = y_pred/n_estimators\n",
    "        logloss_score = log_loss(y_valid, y_pred)\n",
    "        y_pred = y_pred.dot(weights).reshape(len(X_valid))\n",
    "        y_pred = np.where(y_pred > 0, 1, -1)\n",
    "        custom_score = custom_metric(y_valid, y_pred)\n",
    "        logloss_scores.append(logloss_score)\n",
    "        custom_scores.append(custom_score)\n",
    "        if print_process:\n",
    "            print(\"Custom metric value:\", custom_score, \" logloss value:\", logloss_score)\n",
    "        stages_cnt += 1\n",
    "            \n",
    "    return np.array(custom_scores), np.array(logloss_scores)"
   ]
  },
  {
   "cell_type": "code",
   "execution_count": 9,
   "metadata": {},
   "outputs": [],
   "source": [
    "def plot_importances(model, column_names, v_size=20):\n",
    "    plt.figure(figsize=(15, v_size))\n",
    "    FI = pd.DataFrame()\n",
    "    FI[\"names\"] = column_names\n",
    "    FI[\"importances\"] = model.feature_importances_\n",
    "    sns.barplot(data=FI.sort_values(by=\"importances\", ascending=False), \n",
    "               x=\"importances\", y=\"names\")\n",
    "    plt.title(\"Feature importances\")"
   ]
  },
  {
   "cell_type": "markdown",
   "metadata": {},
   "source": [
    "# Parse data"
   ]
  },
  {
   "cell_type": "markdown",
   "metadata": {},
   "source": [
    "## Reactions"
   ]
  },
  {
   "cell_type": "code",
   "execution_count": 10,
   "metadata": {},
   "outputs": [],
   "source": [
    "train = pd.read_csv(\"stories_reaction_train.csv\")\n",
    "test = pd.read_csv(\"stories_reaction_test.csv\")\n",
    "train.rename(columns={\"event_dttm\" : \"time\"}, inplace=True)\n",
    "test.rename(columns={\"event_dttm\" : \"time\"}, inplace=True)"
   ]
  },
  {
   "cell_type": "markdown",
   "metadata": {},
   "source": [
    "## User info"
   ]
  },
  {
   "cell_type": "code",
   "execution_count": 11,
   "metadata": {},
   "outputs": [],
   "source": [
    "customer_train = pd.read_csv(\"customer_train.csv\")\n",
    "customer_test = pd.read_csv(\"customer_test.csv\")"
   ]
  },
  {
   "cell_type": "markdown",
   "metadata": {},
   "source": [
    "## Story info"
   ]
  },
  {
   "cell_type": "code",
   "execution_count": 12,
   "metadata": {},
   "outputs": [],
   "source": [
    "stories = json_to_russian_text(pd.read_csv(\"stories_description.csv\"))"
   ]
  },
  {
   "cell_type": "markdown",
   "metadata": {},
   "source": [
    "## Transactions"
   ]
  },
  {
   "cell_type": "code",
   "execution_count": 13,
   "metadata": {},
   "outputs": [],
   "source": [
    "transactions = pd.read_csv(\"transactions.csv\")"
   ]
  },
  {
   "cell_type": "markdown",
   "metadata": {},
   "source": [
    "# Preprocessing"
   ]
  },
  {
   "cell_type": "markdown",
   "metadata": {},
   "source": [
    "## Extract features from text"
   ]
  },
  {
   "cell_type": "code",
   "execution_count": 14,
   "metadata": {},
   "outputs": [],
   "source": [
    "text_transformer = Pipeline([(\"vect\", CountVectorizer()), \n",
    "                             (\"svd\", TruncatedSVD(n_components=10, random_state=0))])"
   ]
  },
  {
   "cell_type": "code",
   "execution_count": 15,
   "metadata": {},
   "outputs": [
    {
     "name": "stdout",
     "output_type": "stream",
     "text": [
      "CPU times: user 672 ms, sys: 386 µs, total: 672 ms\n",
      "Wall time: 673 ms\n"
     ]
    }
   ],
   "source": [
    "%%time\n",
    "stories[\"story_name\"] = stories.story_json.apply(get_name)\n",
    "#stories[\"russian_text\"] = stories.russian_text.apply(normalize)\n",
    "stories[\"story_num_pages\"] = stories.story_json.apply(story_num_pages)"
   ]
  },
  {
   "cell_type": "code",
   "execution_count": 16,
   "metadata": {},
   "outputs": [],
   "source": [
    "story_texts = text_transformer.fit_transform(stories.russian_text) \n",
    "text_columns = [\"text_\" + str(i) for i in range(10)]\n",
    "for i, col in enumerate(text_columns):\n",
    "    stories[col] = story_texts[:, i]    "
   ]
  },
  {
   "cell_type": "code",
   "execution_count": 17,
   "metadata": {},
   "outputs": [
    {
     "data": {
      "text/plain": [
       "0.28226961353105856"
      ]
     },
     "execution_count": 17,
     "metadata": {},
     "output_type": "execute_result"
    }
   ],
   "source": [
    "text_transformer.get_params()[\"svd\"].explained_variance_ratio_.sum()"
   ]
  },
  {
   "cell_type": "markdown",
   "metadata": {},
   "source": [
    "## Sort train and test by time"
   ]
  },
  {
   "cell_type": "code",
   "execution_count": 18,
   "metadata": {},
   "outputs": [],
   "source": [
    "train.time = pd.to_datetime(train.time)\n",
    "test.time = pd.to_datetime(test.time)\n",
    "train.sort_values(by=\"time\", inplace=True)\n",
    "test.sort_values(by=\"time\", inplace=True)\n",
    "train.set_index(\"time\", inplace=True)\n",
    "test.set_index(\"time\", inplace=True)"
   ]
  },
  {
   "cell_type": "code",
   "execution_count": 19,
   "metadata": {},
   "outputs": [],
   "source": [
    "## train\n",
    "train[\"month\"] = train.index.month\n",
    "train.month = train.month.astype(np.int8)\n",
    "train[\"day\"] = train.index.day\n",
    "train.day = train.day.astype(np.int8)\n",
    "train[\"hour\"] = train.index.hour\n",
    "train.hour = train.hour.astype(np.int8)\n",
    "train[\"minute\"] = train.index.minute\n",
    "train.minute = train.minute.astype(np.int8)\n",
    "train[\"second\"] = train.index.second\n",
    "train.second = train.second.astype(np.int8)\n",
    "train[\"weekday\"] = train.index.weekday\n",
    "train.weekday = train.weekday.astype(np.int8)\n",
    "\n",
    "## test\n",
    "test[\"month\"] = test.index.month\n",
    "test.month = test.month.astype(np.int8)\n",
    "test[\"day\"] = test.index.day\n",
    "test.day = test.day.astype(np.int8)\n",
    "test[\"hour\"] = test.index.hour\n",
    "test.hour = test.hour.astype(np.int8)\n",
    "test[\"minute\"] = test.index.minute\n",
    "test.minute = test.minute.astype(np.int8)\n",
    "test[\"second\"] = test.index.second\n",
    "test.second = test.second.astype(np.int8)\n",
    "test[\"weekday\"] = test.index.weekday\n",
    "test.weekday = test.weekday.astype(np.int8)"
   ]
  },
  {
   "cell_type": "markdown",
   "metadata": {},
   "source": [
    "## Merge train/test with user info "
   ]
  },
  {
   "cell_type": "code",
   "execution_count": 20,
   "metadata": {},
   "outputs": [],
   "source": [
    "train = pd.merge(train, customer_train, on=[\"customer_id\"], how=\"left\")\n",
    "test = pd.merge(test, customer_test, on=[\"customer_id\"], how=\"left\")"
   ]
  },
  {
   "cell_type": "markdown",
   "metadata": {},
   "source": [
    "## Merge train/test with story info"
   ]
  },
  {
   "cell_type": "code",
   "execution_count": 21,
   "metadata": {},
   "outputs": [],
   "source": [
    "train = pd.merge(train, stories.drop(\"story_json\", axis=1), on=[\"story_id\"], how=\"left\")\n",
    "test = pd.merge(test, stories.drop(\"story_json\", axis=1), on=[\"story_id\"], how=\"left\")"
   ]
  },
  {
   "cell_type": "markdown",
   "metadata": {},
   "source": [
    "## Merge train/test with transactions"
   ]
  },
  {
   "cell_type": "code",
   "execution_count": 22,
   "metadata": {},
   "outputs": [],
   "source": [
    "g = transactions.groupby(\"customer_id\").agg({\"transaction_amt\" : [\"mean\", \"std\", \"count\"], \n",
    "                                             \"merchant_mcc\" : [lambda x: mode(x)[0], lambda x: x.nunique()], \n",
    "                                             \"transaction_month\" : lambda x : x.nunique()}).reset_index()\n",
    "g.columns = ['_'.join(col).strip(\"_\") for col in g.columns.values]\n",
    "g.rename(columns={\"merchant_mcc_<lambda_0>\" : \"favourite_mcc\", \n",
    "                  \"merchant_mcc_<lambda_1>\" : \"mcc_nunique\", \n",
    "                  \"transaction_month_<lambda>\" : \"n_months\", \n",
    "                  \"transaction_amt_count\" : \"transaction_amt_cnt\"}, inplace=True)\n",
    "\n",
    "train = pd.merge(train, g, on=\"customer_id\", how=\"left\")\n",
    "test = pd.merge(test, g, on=\"customer_id\", how=\"left\")"
   ]
  },
  {
   "cell_type": "code",
   "execution_count": 23,
   "metadata": {},
   "outputs": [],
   "source": [
    "g = transactions.groupby([\"customer_id\", \"merchant_mcc\"]).agg({\"transaction_amt\" : \"mean\"}).reset_index()\n",
    "g.rename(columns={\"merchant_mcc\" : \"favourite_mcc\", \"transaction_amt\" : \"amt_on_favourite_mean\"}, inplace=True)\n",
    "train = pd.merge(train, g, on=[\"customer_id\", \"favourite_mcc\"], how=\"left\")\n",
    "test = pd.merge(test, g, on=[\"customer_id\", \"favourite_mcc\"], how=\"left\")"
   ]
  },
  {
   "cell_type": "markdown",
   "metadata": {},
   "source": [
    "## Preprocessing of categorical features"
   ]
  },
  {
   "cell_type": "code",
   "execution_count": 24,
   "metadata": {},
   "outputs": [],
   "source": [
    "cat_columns = [\"gender_cd\", \"marital_status_cd\", \"job_title\", \"job_position_cd\", \"favourite_mcc\"]\n",
    "le = LabelEncoder()\n",
    "for col in cat_columns:\n",
    "    train[col] = train[col].astype(\"str\")\n",
    "    test[col] = test[col].astype(\"str\")\n",
    "    train[col].fillna(\"NaN\", inplace=True)\n",
    "    test[col].fillna(\"NaN\", inplace=True)\n",
    "    le.fit(pd.concat([train[col], test[col]], axis=0))\n",
    "    train[col] = le.transform(train[col]).astype(np.int32)\n",
    "    test[col] = le.transform(test[col]).astype(np.int32)"
   ]
  },
  {
   "cell_type": "code",
   "execution_count": 25,
   "metadata": {},
   "outputs": [],
   "source": [
    "product_columns = [\"product_\" + str(i) for i in range(7)]\n",
    "for col in product_columns:\n",
    "    train[col] = train[col].astype(\"str\")\n",
    "    test[col] = test[col].astype(\"str\")\n",
    "    train[col].fillna(\"NaN\", inplace=True)\n",
    "    test[col].fillna(\"NaN\", inplace=True)"
   ]
  },
  {
   "cell_type": "code",
   "execution_count": 26,
   "metadata": {},
   "outputs": [],
   "source": [
    "train.event = train.event.map({\"dislike\" : 0, \"skip\" : 1, \"view\" : 2, \"like\" : 3}).astype(np.int8)"
   ]
  },
  {
   "cell_type": "markdown",
   "metadata": {},
   "source": [
    "## Preprocessing of numerical features"
   ]
  },
  {
   "cell_type": "code",
   "execution_count": 28,
   "metadata": {},
   "outputs": [],
   "source": [
    "num_columns = [\"month\", \"day\", \"hour\", \"minute\", \"second\", \"age\", \"children_cnt\", \n",
    "               \"transaction_amt_mean\", \"transaction_amt_std\", \"transaction_amt_cnt\", \n",
    "               \"amt_on_favourite_mean\", \"story_num_pages\", \"mcc_nunique\"]\n",
    "for col in num_columns:\n",
    "    train[col].fillna(-1, inplace=True)\n",
    "    train[col] = train[col].astype(np.float16)\n",
    "    test[col].fillna(-1, inplace=True)\n",
    "    test[col] = test[col].astype(np.float16)"
   ]
  },
  {
   "cell_type": "code",
   "execution_count": 29,
   "metadata": {},
   "outputs": [],
   "source": [
    "train.n_months.fillna(train.n_months.min(), inplace=True)\n",
    "test.n_months.fillna(train.n_months.min(), inplace=True)"
   ]
  },
  {
   "cell_type": "markdown",
   "metadata": {},
   "source": [
    "## Preprocessing of text features"
   ]
  },
  {
   "cell_type": "code",
   "execution_count": 30,
   "metadata": {},
   "outputs": [],
   "source": [
    "for col in text_columns:\n",
    "    train[col].fillna(train[col].median(), inplace=True)\n",
    "    test[col].fillna(train[col].median(), inplace=True)"
   ]
  },
  {
   "cell_type": "markdown",
   "metadata": {},
   "source": [
    "# Feature generation"
   ]
  },
  {
   "cell_type": "markdown",
   "metadata": {},
   "source": [
    "## Customer-based"
   ]
  },
  {
   "cell_type": "code",
   "execution_count": 31,
   "metadata": {},
   "outputs": [],
   "source": [
    "for name in [\"CLS\", \"UTL\", \"OPN\"]:\n",
    "    func = lambda x: 1 if x == name else 0\n",
    "    train[\"num_products_\" + name] = train[product_columns].applymap(func).sum(axis=1)\n",
    "    test[\"num_products_\" + name] = test[product_columns].applymap(func).sum(axis=1) "
   ]
  },
  {
   "cell_type": "code",
   "execution_count": 32,
   "metadata": {},
   "outputs": [],
   "source": [
    "customer_clusters = pd.read_csv(\"customer_cluster.csv\").rename(columns={\"label\" : \"customer_cluster\"})\n",
    "train = pd.merge(train, customer_clusters, on=\"customer_id\", how=\"left\")\n",
    "test = pd.merge(test, customer_clusters, on=\"customer_id\", how=\"left\")"
   ]
  },
  {
   "cell_type": "code",
   "execution_count": 33,
   "metadata": {},
   "outputs": [],
   "source": [
    "train.customer_cluster.fillna(-1, inplace=True)\n",
    "train.customer_cluster = train.customer_cluster.astype(np.int8)\n",
    "test.customer_cluster.fillna(-1, inplace=True)\n",
    "test.customer_cluster = test.customer_cluster.astype(np.int8)"
   ]
  },
  {
   "cell_type": "markdown",
   "metadata": {},
   "source": [
    "## Story-based"
   ]
  },
  {
   "cell_type": "code",
   "execution_count": 34,
   "metadata": {},
   "outputs": [],
   "source": [
    "story_clusters = pd.read_csv(\"story_label.csv\") \n",
    "train = pd.merge(train, story_clusters, on=\"story_id\", how=\"left\")\n",
    "test = pd.merge(test, story_clusters, on=\"story_id\", how=\"left\")"
   ]
  },
  {
   "cell_type": "code",
   "execution_count": 35,
   "metadata": {},
   "outputs": [],
   "source": [
    "train.story_cluster.fillna(-1, inplace=True)\n",
    "train.story_cluster = train.story_cluster.astype(np.int8)\n",
    "test.story_cluster.fillna(-1, inplace=True)\n",
    "test.story_cluster = test.story_cluster.astype(np.int8)"
   ]
  },
  {
   "cell_type": "code",
   "execution_count": 36,
   "metadata": {},
   "outputs": [],
   "source": [
    "train[\"story_name_length\"] = train.story_name.astype(str).apply(len)\n",
    "test[\"story_name_length\"] = test.story_name.astype(str).apply(len)"
   ]
  },
  {
   "cell_type": "markdown",
   "metadata": {},
   "source": [
    "## Lags"
   ]
  },
  {
   "cell_type": "code",
   "execution_count": 37,
   "metadata": {},
   "outputs": [],
   "source": [
    "train[\"previous_story_cluster\"] = train.groupby(\"customer_id\").story_cluster.transform(lambda x: x.shift(periods=1))\n",
    "test[\"previous_story_cluster\"] = test.groupby(\"customer_id\").story_cluster.transform(lambda x: x.shift(periods=1))\n",
    "train.previous_story_cluster.fillna(-1, inplace=True)\n",
    "train.previous_story_cluster = train.previous_story_cluster.astype(np.int8)\n",
    "test.previous_story_cluster.fillna(-1, inplace=True)\n",
    "test.previous_story_cluster = test.previous_story_cluster.astype(np.int8)"
   ]
  },
  {
   "cell_type": "markdown",
   "metadata": {},
   "source": [
    "## Interactions"
   ]
  },
  {
   "cell_type": "code",
   "execution_count": 38,
   "metadata": {},
   "outputs": [],
   "source": [
    "le = LabelEncoder()\n",
    "\n",
    "train[\"pair_id\"] = train.customer_id.astype(str) + \"_\" + train.story_id.astype(str)\n",
    "test[\"pair_id\"] = test.customer_id.astype(str) + \"_\" + test.story_id.astype(str)\n",
    "le.fit(pd.concat([train.pair_id, test.pair_id], axis=0))\n",
    "train[\"pair_id\"] = le.transform(train.pair_id)\n",
    "test[\"pair_id\"] = le.transform(test.pair_id)"
   ]
  },
  {
   "cell_type": "code",
   "execution_count": 39,
   "metadata": {},
   "outputs": [],
   "source": [
    "train[\"story_cluster_favourite_mcc\"] = train.story_cluster.astype(str) + \"_\" + train.favourite_mcc.astype(str)\n",
    "test[\"story_cluster_favourite_mcc\"] = test.story_cluster.astype(str) + \"_\" + test.favourite_mcc.astype(str)\n",
    "le.fit(pd.concat([train.story_cluster_favourite_mcc, test.story_cluster_favourite_mcc], axis=0))\n",
    "train[\"story_cluster_favourite_mcc\"] = le.transform(train.story_cluster_favourite_mcc)\n",
    "test[\"story_cluster_favourite_mcc\"] = le.transform(test.story_cluster_favourite_mcc)"
   ]
  },
  {
   "cell_type": "code",
   "execution_count": 40,
   "metadata": {},
   "outputs": [],
   "source": [
    "train[\"story_cluster_job_title\"] = train.story_cluster.astype(str) + \"_\" + train.job_title.astype(str)\n",
    "test[\"story_cluster_job_title\"] = test.story_cluster.astype(str) + \"_\" + test.job_title.astype(str)\n",
    "le.fit(pd.concat([train.story_cluster_job_title, test.story_cluster_job_title], axis=0))\n",
    "train[\"story_cluster_job_title\"] = le.transform(train.story_cluster_job_title)\n",
    "test[\"story_cluster_job_title\"] = le.transform(test.story_cluster_job_title)"
   ]
  },
  {
   "cell_type": "code",
   "execution_count": 41,
   "metadata": {},
   "outputs": [],
   "source": [
    "train[\"story_cluster_gender_cd\"] = train.story_cluster.astype(str) + \"_\" + train.gender_cd.astype(str)\n",
    "test[\"story_cluster_gender_cd\"] = test.story_cluster.astype(str) + \"_\" + test.gender_cd.astype(str)\n",
    "le.fit(pd.concat([train.story_cluster_gender_cd, test.story_cluster_gender_cd], axis=0))\n",
    "train[\"story_cluster_gender_cd\"] = le.transform(train.story_cluster_gender_cd)\n",
    "test[\"story_cluster_gender_cd\"] = le.transform(test.story_cluster_gender_cd)"
   ]
  },
  {
   "cell_type": "code",
   "execution_count": 42,
   "metadata": {},
   "outputs": [],
   "source": [
    "mean_age_on_cluster = pd.concat([train, test], axis=0, sort=False).groupby(\"story_cluster\").age.mean()\n",
    "train[\"mean_age_on_cluster\"] = train.story_cluster.map(mean_age_on_cluster)\n",
    "test[\"mean_age_on_cluster\"] = test.story_cluster.map(mean_age_on_cluster)"
   ]
  },
  {
   "cell_type": "code",
   "execution_count": 43,
   "metadata": {},
   "outputs": [],
   "source": [
    "train[\"amt_per_month_mean\"] = train.transaction_amt_mean / train.n_months\n",
    "test[\"amt_per_month_mean\"] = test.transaction_amt_mean / test.n_months"
   ]
  },
  {
   "cell_type": "markdown",
   "metadata": {},
   "source": [
    "## Counters"
   ]
  },
  {
   "cell_type": "code",
   "execution_count": 44,
   "metadata": {},
   "outputs": [],
   "source": [
    "customer_cnt = pd.concat([train, test], axis=0, sort=False).groupby(\"customer_id\").customer_id.count()\n",
    "train[\"customer_cnt\"] = train.customer_id.map(customer_cnt)\n",
    "test[\"customer_cnt\"] = test.customer_id.map(customer_cnt)"
   ]
  },
  {
   "cell_type": "code",
   "execution_count": 45,
   "metadata": {},
   "outputs": [],
   "source": [
    "story_cnt = pd.concat([train, test], axis=0, sort=False).groupby(\"story_id\").story_id.count()\n",
    "train[\"story_cnt\"] = train.story_id.map(story_cnt)\n",
    "test[\"story_cnt\"] = test.story_id.map(story_cnt)"
   ]
  },
  {
   "cell_type": "code",
   "execution_count": 46,
   "metadata": {},
   "outputs": [],
   "source": [
    "story_cluster_cnt = pd.concat([train, test], axis=0, sort=False).groupby(\"story_cluster\").story_cluster.count()\n",
    "train[\"story_cluster_cnt\"] = train.story_cluster.map(story_cluster_cnt)\n",
    "test[\"story_cluster_cnt\"] = test.story_cluster.map(story_cluster_cnt)"
   ]
  },
  {
   "cell_type": "code",
   "execution_count": 47,
   "metadata": {},
   "outputs": [],
   "source": [
    "previous_story_cluster_cnt = pd.concat([train, test], \n",
    "                                       axis=0, \n",
    "                                       sort=False).groupby(\"previous_story_cluster\").previous_story_cluster.count()\n",
    "train[\"previous_story_cluster_cnt\"] = train.story_cluster.map(previous_story_cluster_cnt)\n",
    "test[\"previous_story_cluster_cnt\"] = test.story_cluster.map(previous_story_cluster_cnt)"
   ]
  },
  {
   "cell_type": "code",
   "execution_count": 48,
   "metadata": {},
   "outputs": [],
   "source": [
    "pair_cnt = pd.concat([train, test], axis=0, sort=False).groupby(\"pair_id\").pair_id.count()\n",
    "train[\"pair_cnt\"] = train.pair_id.map(pair_cnt)\n",
    "test[\"pair_cnt\"] = test.pair_id.map(pair_cnt)"
   ]
  },
  {
   "cell_type": "markdown",
   "metadata": {},
   "source": [
    "## Mean_encoding"
   ]
  },
  {
   "cell_type": "code",
   "execution_count": 49,
   "metadata": {},
   "outputs": [],
   "source": [
    "train, test = mean_encode(train, test, \"customer_id\")\n",
    "train, test = mean_encode(train, test, \"story_id\")\n",
    "train, test = mean_encode(train, test, \"pair_id\")\n",
    "train, test = mean_encode(train, test, \"story_num_pages\")"
   ]
  },
  {
   "cell_type": "markdown",
   "metadata": {},
   "source": [
    "## Choose final features"
   ]
  },
  {
   "cell_type": "code",
   "execution_count": 50,
   "metadata": {},
   "outputs": [],
   "source": [
    "## categorical\n",
    "final_cat_columns = [\"story_cluster\", \"story_cluster_favourite_mcc\", \"previous_story_cluster\"]\n",
    "\n",
    "## numerical\n",
    "final_num_columns = [\"hour\", \"weekday\", \"age\", \"children_cnt\",  \n",
    "                     \"transaction_amt_std\", \"transaction_amt_cnt\", \"amt_on_favourite_mean\", \n",
    "                     \"customer_cnt\", \"story_cnt\", \"pair_cnt\", \"story_cluster_cnt\",\n",
    "                     \"mean_age_on_cluster\", \n",
    "                     \"story_name_length\", \"story_num_pages\",\n",
    "                     \"story_id_dislike_me\", \"story_id_like_me\", \"story_id_view_me\", \"story_id_skip_me\", \n",
    "                     \"customer_id_dislike_me\", \"customer_id_like_me\", \"customer_id_view_me\", \"customer_id_skip_me\",\n",
    "                     \"pair_id_dislike_me\", \"pair_id_like_me\",\n",
    "                     \"story_num_pages_skip_me\",\n",
    "                     \"story_num_pages_like_me\", \"story_num_pages_dislike_me\"]"
   ]
  },
  {
   "cell_type": "markdown",
   "metadata": {},
   "source": [
    "# Modelling"
   ]
  },
  {
   "cell_type": "code",
   "execution_count": 53,
   "metadata": {},
   "outputs": [],
   "source": [
    "X_train = train[final_cat_columns + final_num_columns]\n",
    "y_train = train.event\n",
    "X_test = test[final_cat_columns + final_num_columns]\n",
    "mean_num_leaves = 30\n",
    "lgb_clf = lgb.LGBMClassifier(n_estimators=80,\n",
    "                            num_class=4,\n",
    "                            objective=\"multiclass\",\n",
    "                            boosting_type=\"gbdt\",\n",
    "                            learning_rate=0.1,\n",
    "                            depth=6,\n",
    "                            subsample=0.8,\n",
    "                            colsample_bytree=0.8,\n",
    "                            reg_alpha=0.5,\n",
    "                            reg_lambda=0.5,\n",
    "                            num_leaves=mean_num_leaves, \n",
    "                            random_state=42)"
   ]
  },
  {
   "cell_type": "code",
   "execution_count": 54,
   "metadata": {},
   "outputs": [
    {
     "data": {
      "text/plain": [
       "((473141, 30), (172049, 30))"
      ]
     },
     "execution_count": 54,
     "metadata": {},
     "output_type": "execute_result"
    }
   ],
   "source": [
    "X_train.shape, X_test.shape"
   ]
  },
  {
   "cell_type": "markdown",
   "metadata": {},
   "source": [
    "## Tune parameters"
   ]
  },
  {
   "cell_type": "markdown",
   "metadata": {},
   "source": [
    "%%time\n",
    "depth_list = [6]\n",
    "num_leaves_list = [25, 27, 29, 31, 33, 35]\n",
    "scores_matrix = np.zeros((len(depth_list), len(num_leaves_list)))\n",
    "for i in range(len(depth_list)):\n",
    "    for j in range(len(num_leaves_list)):\n",
    "        depth, num_leaves = depth_list[i], num_leaves_list[j]\n",
    "        print(\"Depth:\", depth, \" num_leaves:\", num_leaves)\n",
    "        lgb_clf.set_params(depth=depth, num_leaves=num_leaves)\n",
    "        custom_scores, logloss_scores = validate_model(lgb_clf, X_train, y_train, \n",
    "                                n_splits=5, n_estimators=5,\n",
    "                                verbose=False, \n",
    "                                print_process=False)\n",
    "        scores_matrix[i, j] = custom_scores.mean() \n",
    "        print(custom_scores.mean(), custom_scores.std())"
   ]
  },
  {
   "cell_type": "markdown",
   "metadata": {},
   "source": [
    "## Validate"
   ]
  },
  {
   "cell_type": "code",
   "execution_count": 55,
   "metadata": {},
   "outputs": [
    {
     "name": "stdout",
     "output_type": "stream",
     "text": [
      "Stage number 0\n",
      "Custom metric value: 0.3177512908200985  logloss value: 0.9564143728876419\n",
      "Stage number 1\n",
      "Custom metric value: 0.3639101409161519  logloss value: 0.8552860780796345\n",
      "Stage number 2\n",
      "Custom metric value: 0.42015869533423766  logloss value: 0.8220789049655578\n",
      "Stage number 3\n",
      "Custom metric value: 0.4152513540105749  logloss value: 0.8305592356143651\n",
      "Stage number 4\n",
      "Custom metric value: 0.45923386628820306  logloss value: 0.8394244838366667\n",
      "Stage number 5\n",
      "Custom metric value: 0.3935281743722933  logloss value: 0.8391558533023773\n",
      "Stage number 6\n",
      "Custom metric value: 0.47141655633003  logloss value: 0.8396569820391083\n",
      "Stage number 7\n",
      "Custom metric value: 0.5246406257160933  logloss value: 0.8759601579818306\n",
      "Stage number 8\n",
      "Custom metric value: 0.5306170541178169  logloss value: 0.8096070560220309\n",
      "Stage number 9\n",
      "Custom metric value: 0.47071337398969104  logloss value: 0.744562239688505\n",
      "CPU times: user 26min 31s, sys: 13.8 s, total: 26min 45s\n",
      "Wall time: 22h 13min 48s\n"
     ]
    }
   ],
   "source": [
    "%%time\n",
    "custom_scores, logloss_scores = validate_model(lgb_clf, X_train, y_train, \n",
    "                                               n_splits=10, verbose=False,\n",
    "                                               n_estimators=5, \n",
    "                                               random_mul=10,\n",
    "                                               mean_num_leaves=mean_num_leaves)"
   ]
  },
  {
   "cell_type": "code",
   "execution_count": 56,
   "metadata": {},
   "outputs": [
    {
     "name": "stdout",
     "output_type": "stream",
     "text": [
      "Mean:  0.43672211318951903\n",
      "Confidence_interval: (0.38816411911491333, 0.48528010726412474)\n"
     ]
    }
   ],
   "source": [
    "print(\"Mean: \", custom_scores.mean())\n",
    "print(\"Confidence_interval:\" , confint(custom_scores.mean(), custom_scores.std(ddof=1)/np.sqrt(len(custom_scores)), \n",
    "                                       len(custom_scores) - 1, alpha=0.05, alternative=\"two-sided\"))"
   ]
  },
  {
   "cell_type": "code",
   "execution_count": 57,
   "metadata": {},
   "outputs": [
    {
     "name": "stdout",
     "output_type": "stream",
     "text": [
      "Mean:  0.8412705364417719\n",
      "Confidence_interval: (0.8031878949264274, 0.8793531779571163)\n"
     ]
    }
   ],
   "source": [
    "print(\"Mean: \", logloss_scores.mean())\n",
    "print(\"Confidence_interval:\" , confint(logloss_scores.mean(), logloss_scores.std(ddof=1)/np.sqrt(len(logloss_scores)), \n",
    "                                       len(logloss_scores) - 1, alpha=0.05, alternative=\"two-sided\"))"
   ]
  },
  {
   "cell_type": "markdown",
   "metadata": {},
   "source": [
    "## Plot feature importances"
   ]
  },
  {
   "cell_type": "code",
   "execution_count": 58,
   "metadata": {},
   "outputs": [
    {
     "data": {
      "image/png": "[encoded data removed]",
      "text/plain": [
       "<Figure size 1080x864 with 1 Axes>"
      ]
     },
     "metadata": {
      "needs_background": "light"
     },
     "output_type": "display_data"
    }
   ],
   "source": [
    "plot_importances(lgb_clf, X_train.columns, v_size=12)"
   ]
  },
  {
   "cell_type": "markdown",
   "metadata": {},
   "source": [
    "## Fit on train and predict on test"
   ]
  },
  {
   "cell_type": "code",
   "execution_count": 59,
   "metadata": {
    "scrolled": true
   },
   "outputs": [
    {
     "name": "stdout",
     "output_type": "stream",
     "text": [
      "Fitting estimator 0\n",
      "Predicting on estimator 0\n",
      "Fitting estimator 1\n",
      "Predicting on estimator 1\n",
      "Fitting estimator 2\n",
      "Predicting on estimator 2\n",
      "Fitting estimator 3\n",
      "Predicting on estimator 3\n",
      "Fitting estimator 4\n",
      "Predicting on estimator 4\n",
      "Fitting estimator 5\n",
      "Predicting on estimator 5\n",
      "Fitting estimator 6\n",
      "Predicting on estimator 6\n",
      "Fitting estimator 7\n",
      "Predicting on estimator 7\n",
      "Fitting estimator 8\n",
      "Predicting on estimator 8\n",
      "Fitting estimator 9\n",
      "Predicting on estimator 9\n",
      "CPU times: user 10min 43s, sys: 4.41 s, total: 10min 48s\n",
      "Wall time: 3min 6s\n"
     ]
    }
   ],
   "source": [
    "%%time\n",
    "weights = np.array([-10, -0.1, 0.1, 0.5]).reshape(4, 1)\n",
    "y_pred = np.zeros((len(X_test), 4))\n",
    "n_estimators = 10\n",
    "for i in range(n_estimators):\n",
    "    print(\"Fitting estimator\", i)\n",
    "    np.random.seed(i * 15)\n",
    "    lgb_clf.set_params(random_state = i * 15, \n",
    "                       num_leaves = mean_num_leaves + np.random.randint(-1, 2))\n",
    "    lgb_clf.fit(X_train, y_train,\n",
    "                eval_set=[(X_train, y_train)],\n",
    "                verbose=False)\n",
    "    print(\"Predicting on estimator\", i)\n",
    "    y_pred_ = lgb_clf.predict_proba(X_test)\n",
    "    y_pred += y_pred_\n",
    "\n",
    "y_pred = y_pred/4\n",
    "y_pred = y_pred.dot(weights).reshape(len(X_test))\n",
    "y_pred = np.where(y_pred > 0, 1, -1)"
   ]
  },
  {
   "cell_type": "code",
   "execution_count": 60,
   "metadata": {},
   "outputs": [],
   "source": [
    "del lgb_clf"
   ]
  },
  {
   "cell_type": "markdown",
   "metadata": {},
   "source": [
    "# Submission"
   ]
  },
  {
   "cell_type": "code",
   "execution_count": 61,
   "metadata": {},
   "outputs": [
    {
     "data": {
      "text/html": [
       "<div>\n",
       "<style scoped>\n",
       "    .dataframe tbody tr th:only-of-type {\n",
       "        vertical-align: middle;\n",
       "    }\n",
       "\n",
       "    .dataframe tbody tr th {\n",
       "        vertical-align: top;\n",
       "    }\n",
       "\n",
       "    .dataframe thead th {\n",
       "        text-align: right;\n",
       "    }\n",
       "</style>\n",
       "<table border=\"1\" class=\"dataframe\">\n",
       "  <thead>\n",
       "    <tr style=\"text-align: right;\">\n",
       "      <th></th>\n",
       "      <th>answer_id</th>\n",
       "      <th>score</th>\n",
       "    </tr>\n",
       "  </thead>\n",
       "  <tbody>\n",
       "    <tr>\n",
       "      <td>0</td>\n",
       "      <td>0</td>\n",
       "      <td>-1</td>\n",
       "    </tr>\n",
       "    <tr>\n",
       "      <td>1</td>\n",
       "      <td>1</td>\n",
       "      <td>-1</td>\n",
       "    </tr>\n",
       "    <tr>\n",
       "      <td>2</td>\n",
       "      <td>2</td>\n",
       "      <td>-1</td>\n",
       "    </tr>\n",
       "    <tr>\n",
       "      <td>3</td>\n",
       "      <td>3</td>\n",
       "      <td>1</td>\n",
       "    </tr>\n",
       "    <tr>\n",
       "      <td>4</td>\n",
       "      <td>4</td>\n",
       "      <td>1</td>\n",
       "    </tr>\n",
       "  </tbody>\n",
       "</table>\n",
       "</div>"
      ],
      "text/plain": [
       "   answer_id  score\n",
       "0          0     -1\n",
       "1          1     -1\n",
       "2          2     -1\n",
       "3          3      1\n",
       "4          4      1"
      ]
     },
     "execution_count": 61,
     "metadata": {},
     "output_type": "execute_result"
    }
   ],
   "source": [
    "answer_id = test.answer_id\n",
    "submission = pd.DataFrame(columns=[\"answer_id\", \"score\"])\n",
    "submission.answer_id = answer_id\n",
    "submission.score = y_pred\n",
    "submission.sort_values(by=\"answer_id\", inplace=True)\n",
    "submission.reset_index(drop=True, inplace=True)\n",
    "submission.to_csv(\"final_4.csv\", index=False)\n",
    "submission.head()"
   ]
  },
  {
   "cell_type": "code",
   "execution_count": 62,
   "metadata": {},
   "outputs": [
    {
     "data": {
      "text/plain": [
       "0.9755006477881845"
      ]
     },
     "execution_count": 62,
     "metadata": {},
     "output_type": "execute_result"
    }
   ],
   "source": [
    "old_submission = pd.read_csv(\"final_2.csv\")\n",
    "bin_corr(old_submission.score.map({-1:0, 1:1}), submission.score.map({-1:0, 1:1}))"
   ]
  },
  {
   "cell_type": "code",
   "execution_count": 63,
   "metadata": {},
   "outputs": [
    {
     "data": {
      "text/plain": [
       "(74812, 97237)"
      ]
     },
     "execution_count": 63,
     "metadata": {},
     "output_type": "execute_result"
    }
   ],
   "source": [
    "len(old_submission[old_submission.score == -1]), len(old_submission[old_submission.score == 1])"
   ]
  },
  {
   "cell_type": "code",
   "execution_count": 64,
   "metadata": {},
   "outputs": [
    {
     "data": {
      "text/plain": [
       "(75764, 96285)"
      ]
     },
     "execution_count": 64,
     "metadata": {},
     "output_type": "execute_result"
    }
   ],
   "source": [
    "len(submission[submission.score == -1]), len(submission[submission.score == 1])"
   ]
  },
  {
   "cell_type": "code",
   "execution_count": null,
   "metadata": {},
   "outputs": [],
   "source": []
  }
 ],
 "metadata": {
  "kernelspec": {
   "display_name": "Python 3",
   "language": "python",
   "name": "python3"
  },
  "language_info": {
   "codemirror_mode": {
    "name": "ipython",
    "version": 3
   },
   "file_extension": ".py",
   "mimetype": "text/x-python",
   "name": "python",
   "nbconvert_exporter": "python",
   "pygments_lexer": "ipython3",
   "version": "3.7.2"
  }
 },
 "nbformat": 4,
 "nbformat_minor": 2
}
