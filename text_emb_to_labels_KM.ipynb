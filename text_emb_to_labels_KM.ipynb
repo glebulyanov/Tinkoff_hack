{
 "cells": [
  {
   "cell_type": "code",
   "execution_count": 1,
   "metadata": {},
   "outputs": [],
   "source": [
    "from sklearn.cluster import KMeans"
   ]
  },
  {
   "cell_type": "code",
   "execution_count": 2,
   "metadata": {},
   "outputs": [],
   "source": [
    "import pandas as pd\n",
    "import numpy as np\n",
    "import matplotlib.pyplot as plt"
   ]
  },
  {
   "cell_type": "code",
   "execution_count": 3,
   "metadata": {},
   "outputs": [],
   "source": [
    "text_embs = pd.read_csv('text_feat_1024.csv')"
   ]
  },
  {
   "cell_type": "code",
   "execution_count": 4,
   "metadata": {},
   "outputs": [],
   "source": [
    "X = text_embs.drop('story_id', axis=1).values"
   ]
  },
  {
   "cell_type": "code",
   "execution_count": 5,
   "metadata": {
    "collapsed": true
   },
   "outputs": [
    {
     "name": "stdout",
     "output_type": "stream",
     "text": [
      "2\n",
      "3\n",
      "4\n",
      "5\n",
      "6\n",
      "7\n",
      "8\n",
      "9\n",
      "10\n",
      "11\n",
      "12\n",
      "13\n",
      "14\n",
      "15\n",
      "16\n",
      "17\n",
      "18\n",
      "19\n",
      "20\n",
      "21\n",
      "22\n",
      "23\n",
      "24\n",
      "25\n",
      "26\n",
      "27\n",
      "28\n",
      "29\n",
      "30\n",
      "31\n",
      "32\n",
      "33\n",
      "34\n",
      "35\n",
      "36\n",
      "37\n",
      "38\n",
      "39\n",
      "40\n",
      "41\n",
      "42\n",
      "43\n",
      "44\n",
      "45\n",
      "46\n",
      "47\n",
      "48\n",
      "49\n"
     ]
    }
   ],
   "source": [
    "inertia = []\n",
    "kmeans = []\n",
    "for i in range(2, 50):\n",
    "    km = KMeans(n_clusters=i, n_jobs=-1, random_state=42)\n",
    "    km.fit(X)\n",
    "    kmeans.append(km)\n",
    "    inertia.append(km.inertia_)"
   ]
  },
  {
   "cell_type": "code",
   "execution_count": 6,
   "metadata": {},
   "outputs": [],
   "source": [
    "inertia_d = []\n",
    "for i in range(len(inertia)-1):\n",
    "    inertia_d.append(inertia[i+1] - inertia[i])"
   ]
  },
  {
   "cell_type": "code",
   "execution_count": 8,
   "metadata": {},
   "outputs": [],
   "source": [
    "import pymorphy2 \n",
    "\n",
    "def normalize(word, morph=0): \n",
    "    if morph == 0:\n",
    "        morph = pymorphy2.MorphAnalyzer()\n",
    "    return morph.parse(word)[0].normal_form \n",
    "\n",
    "def json_to_russian_text(data):\n",
    "    data['russian_text'] = 0\n",
    "    morph = pymorphy2.MorphAnalyzer()\n",
    "    for i in data.index:\n",
    "        story = data['story_json'][i]\n",
    "        story = story.lower()\n",
    "        for symbol in 'qazxswedcvfrtgbnhyujmkiolp\"{}[],.:;1234567890-/?=_#«»\\\\%&()–₽—$²':\n",
    "            story = story.replace(symbol, ' ')\n",
    "        story = story.split()\n",
    "#         story = [normalize(x, morph) for x in story]\n",
    "        story = ' '.join(story)\n",
    "        data.loc[i, 'russian_text'] = story\n",
    "    return data"
   ]
  },
  {
   "cell_type": "code",
   "execution_count": 9,
   "metadata": {},
   "outputs": [],
   "source": [
    "stories = json_to_russian_text(pd.read_csv(\"stories_description.csv\"))"
   ]
  },
  {
   "cell_type": "code",
   "execution_count": 10,
   "metadata": {},
   "outputs": [],
   "source": [
    "labels = kmeans[47].predict(X)"
   ]
  },
  {
   "cell_type": "code",
   "execution_count": 11,
   "metadata": {},
   "outputs": [],
   "source": [
    "stories['story_cluster'] = labels"
   ]
  },
  {
   "cell_type": "code",
   "execution_count": 16,
   "metadata": {},
   "outputs": [],
   "source": [
    "stories[['story_id', 'story_cluster']].to_csv('story_label.csv', index=False)"
   ]
  }
 ],
 "metadata": {
  "kernelspec": {
   "display_name": "Python 3",
   "language": "python",
   "name": "python3"
  },
  "language_info": {
   "codemirror_mode": {
    "name": "ipython",
    "version": 3
   },
   "file_extension": ".py",
   "mimetype": "text/x-python",
   "name": "python",
   "nbconvert_exporter": "python",
   "pygments_lexer": "ipython3",
   "version": "3.7.2"
  }
 },
 "nbformat": 4,
 "nbformat_minor": 2
}
